{
 "cells": [
  {
   "cell_type": "markdown",
   "id": "1959a295-ce5e-4fe8-9a1a-094402435b7a",
   "metadata": {},
   "source": [
    "Q1. What is Statistics?"
   ]
  },
  {
   "cell_type": "markdown",
   "id": "b1f4a2a8-cbf8-4328-9d3f-f037606bf0e7",
   "metadata": {},
   "source": [
    "Statistics is the study of the collection, analysis, interpretation, presentation, and organization of data.             \n",
    "In other words, it is a mathematical discipline to collect, summarize data.\n"
   ]
  },
  {
   "cell_type": "markdown",
   "id": "2e736b52-8504-4a4b-a61a-bc22f812a476",
   "metadata": {},
   "source": []
  },
  {
   "cell_type": "markdown",
   "id": "88e6222a-4a3c-4dee-81dd-48dbf1ea90ad",
   "metadata": {},
   "source": [
    "Q2. Define the different types of statistics and give an example of when each type might be used."
   ]
  },
  {
   "cell_type": "markdown",
   "id": "943d9011-4124-4302-a947-937c0cb1cb3b",
   "metadata": {},
   "source": [
    "The two major areas of statistics are :-                                                     \n",
    "Descriptive statistics:                                                               \n",
    "which describes the properties of sample and population data, and inferential statistics, which uses those properties to test hypotheses and draw conclusions.\n",
    "\n",
    "Example :-                                                                                \n",
    "To calculate descriptive statistics: Mean: Add up all the scores and divide by the number of scores. Mean = (85 + 90 + 75 + 92 + 88 + 79 + 83 + 95 + 87 + 91 + 78 + 86 + 89 + 94 + 82 + 80 + 84 + 93 + 88 + 81) / 20 = 1770 / 20 = 88.5.                   \n",
    "\n",
    "Inferential Statistics:                                                                    \n",
    "we make use of it in order to explain the descriptive kind. Both of them are used on a large scale\n",
    "sing a sample of data, inferential statistics is used to draw conclusions or generalizations about a broader population.   Examples include regression analysis, confidence ranges, and hypothesis testing."
   ]
  },
  {
   "cell_type": "code",
   "execution_count": null,
   "id": "50cca74d-92c5-4973-9e81-b4f28e9f848a",
   "metadata": {},
   "outputs": [],
   "source": []
  },
  {
   "cell_type": "markdown",
   "id": "3b788beb-5077-4a1c-adc4-3312e021127a",
   "metadata": {},
   "source": [
    "Q3. What are the different types of data and how do they differ from each other? Provide an example of\n",
    "each type of data."
   ]
  },
  {
   "cell_type": "markdown",
   "id": "5d306963-1cc1-4c57-93a2-bafcba04f7b5",
   "metadata": {},
   "source": [
    "QUALITATIVE DATA \t                                                        \n",
    "Examples include a person's name, hair color, and occupation.\t                          \n",
    "QUANTITATIVE DATA                                         \n",
    "Examples include age, height, and the number of visitors a website gets per day."
   ]
  },
  {
   "cell_type": "code",
   "execution_count": null,
   "id": "a7a8bc28-f169-443d-a02f-72296dbeaa4a",
   "metadata": {},
   "outputs": [],
   "source": []
  },
  {
   "cell_type": "markdown",
   "id": "bc308d70-afc6-4cc9-82e3-094366d82e60",
   "metadata": {},
   "source": [
    "Q4. Categorise the following datasets with respect to quantitative and qualitative data types:                        \n",
    "(i) Grading in exam: A+, A, B+, B, C+, C, D, E                                     \n",
    "(ii) Colour of mangoes: yellow, green, orange, red                                                                 \n",
    "(iii) Height data of a class: [178.9, 179, 179.5, 176, 177.2, 178.3, 175.8,...]                               \n",
    "(iv) Number of mangoes exported by a farm: [500, 600, 478, 672, ...]                                                 "
   ]
  },
  {
   "cell_type": "markdown",
   "id": "24a65d9c-a249-40dc-8bd6-16f4c733ed91",
   "metadata": {},
   "source": [
    "QUALITATIVE DATA :-    iv) Number of mangoes exported by a farm: [500, 600, 478, 672,                                        \n",
    "                       (iii) Height data of a class: [178.9, 179, 179.5, 176, 177.2, 178.3, 175.8,...]                     \n",
    "                                     \n",
    "QUANTITATIVE DATA :-   (i) Grading in exam: A+, A, B+, B, C+, C, D, E                                                 \n",
    "                       (ii) Colour of mangoes: yellow, green, orange, red                                                            "
   ]
  },
  {
   "cell_type": "code",
   "execution_count": null,
   "id": "99123245-bf7e-47a7-9be7-b421f5c1413c",
   "metadata": {},
   "outputs": [],
   "source": []
  },
  {
   "cell_type": "markdown",
   "id": "c998aafa-4028-40be-9f2b-86588e102431",
   "metadata": {},
   "source": [
    "Q5. Explain the concept of levels of measurement and give an example of a variable for each level."
   ]
  },
  {
   "cell_type": "markdown",
   "id": "2bd00b18-d2de-4883-b98b-4cdd3fa23053",
   "metadata": {},
   "source": [
    "NOMINAL: the data can only be categorized                                    \n",
    "ORDINAL: the data can be categorized and ranked                                         \n",
    "INTERVAL: the data can be categorized, ranked, and evenly spaced                                                     \n",
    "RATIO: the data can be categorized, ranked, evenly spaced, and has a natural zero.                                        \n"
   ]
  },
  {
   "cell_type": "markdown",
   "id": "8cc56e70-9066-454f-a669-d15d83af0bb6",
   "metadata": {},
   "source": [
    "Examples of nominal scales:\n",
    "Gender\n",
    "Ethnicity\n",
    "Car brands\n",
    "Marital status"
   ]
  },
  {
   "cell_type": "markdown",
   "id": "2c0e6141-cf27-4fb7-b610-3c76ba2af694",
   "metadata": {},
   "source": [
    "Examples of ordinal scales:Top 5 Olympic medallists\n",
    "Language ability (e.g., beginner, intermediate, fluent)"
   ]
  },
  {
   "cell_type": "markdown",
   "id": "3cdd9e62-5643-4da2-a567-6a639806472f",
   "metadata": {},
   "source": [
    "Examples of interval scale:Test scores (e.g., IQ or exams)\n",
    "Personality inventories\n",
    "Temperature in Fahrenheit or Celsius"
   ]
  },
  {
   "cell_type": "markdown",
   "id": "2081334c-40e8-4b64-b7c0-0bf4a4423480",
   "metadata": {},
   "source": [
    "Examples of ratio scales:Height\n",
    "Age\n",
    "Weight\n",
    "Temperature in Kelvin"
   ]
  },
  {
   "cell_type": "code",
   "execution_count": null,
   "id": "d07c25f6-658a-468f-9c60-1ea2cad6f07f",
   "metadata": {},
   "outputs": [],
   "source": []
  },
  {
   "cell_type": "markdown",
   "id": "09b4c91e-5d3a-4966-9d9b-d1b1b6e4d17c",
   "metadata": {},
   "source": [
    "Q6. Why is it important to understand the level of measurement when analyzing data? Provide an\n",
    "example to illustrate your answer."
   ]
  },
  {
   "cell_type": "markdown",
   "id": "263eacee-84ca-4743-a658-09919cc8f612",
   "metadata": {},
   "source": [
    "Second, knowing the level of measurement helps you decide what statistical analysis is appropriate on the values that were assigned. If a measure is nominal, then you know that you would never average the data values or do a t-test on the data."
   ]
  },
  {
   "cell_type": "markdown",
   "id": "d938c27f-e4c7-4b85-aaaa-9cfc2282285f",
   "metadata": {},
   "source": [
    "Some examples of quantitative data include distance, speed, height, length and weight. It's easy to remember the difference between qualitative and quantitative data, as one refers to qualities, and the other refers to quantities. A bookshelf, for example, may have 100 books on its shelves and be 100 centimetres tall."
   ]
  },
  {
   "cell_type": "code",
   "execution_count": null,
   "id": "dc6c8d11-e635-43b2-9d88-21bc73733068",
   "metadata": {},
   "outputs": [],
   "source": []
  },
  {
   "cell_type": "markdown",
   "id": "06c35320-d33c-47c2-898e-bc579dd69d19",
   "metadata": {},
   "source": [
    "Q7. How nominal data type is different from ordinal data type."
   ]
  },
  {
   "cell_type": "markdown",
   "id": "7adb4677-0daf-4f8f-ab75-df2b78e71bd8",
   "metadata": {},
   "source": [
    "The main differences between Nominal Data and Ordinal Data are: \n",
    "\n",
    "While Nominal Data is classified without any intrinsic ordering or rank, Ordinal Data has some predetermined or natural order.\n",
    "\n",
    "Nominal data is qualitative or categorical data, while Ordinal data is considered “in-between” qualitative and quantitative data."
   ]
  },
  {
   "cell_type": "code",
   "execution_count": null,
   "id": "4b1d5002-2e2f-4dc2-9af8-afc5f4cd6541",
   "metadata": {},
   "outputs": [],
   "source": []
  },
  {
   "cell_type": "markdown",
   "id": "7a4b9e44-2ca6-4836-930a-bd1d86e9d050",
   "metadata": {},
   "source": [
    "Q8. Which type of plot can be used to display data in terms of range?"
   ]
  },
  {
   "cell_type": "markdown",
   "id": "a2287178-38eb-4e30-a2ce-13245f34f378",
   "metadata": {},
   "source": [
    "HISTOGRAMS"
   ]
  },
  {
   "cell_type": "code",
   "execution_count": null,
   "id": "4d7fd376-ea35-4a0b-8dce-45b957ea206b",
   "metadata": {},
   "outputs": [],
   "source": []
  },
  {
   "cell_type": "markdown",
   "id": "296ce556-7070-4ecd-8f45-f5432ad0c8dd",
   "metadata": {},
   "source": [
    "Q9. Describe the difference between descriptive and inferential statistics. Give an example of each\n",
    "type of statistics and explain how they are used."
   ]
  },
  {
   "cell_type": "markdown",
   "id": "d94ee393-fe93-4df9-a950-308f2cbdc88b",
   "metadata": {},
   "source": [
    "1) Descriptive statistics summarize the characteristics of a data set, inferential statistics help you come to conclusions and make predictions based on your data.                                                                           \n",
    "   When you have collected data from a sample, you can use inferential statistics to understand the larger population from which the sample is taken"
   ]
  },
  {
   "cell_type": "markdown",
   "id": "8dedb96f-2d54-46a0-b270-bbf5432620a2",
   "metadata": {},
   "source": [
    "2) descriptive statistics state facts and proven outcomes from a population, whereas inferential statistics analyze samplings to make predictions about larger populations."
   ]
  },
  {
   "cell_type": "markdown",
   "id": "378ba5d1-053d-40d7-9049-c23e703f49cd",
   "metadata": {},
   "source": [
    "3) Descriptive statistics examples in a research study include the mean, median, and mode.                                  \n",
    "   Using a sample of data, inferential statistics is used to draw conclusions or generalizations about a broader population.      Examples include regression analysis, confidence ranges, and hypothesis testing."
   ]
  },
  {
   "cell_type": "code",
   "execution_count": null,
   "id": "8c08dbb5-b694-41a9-a70d-da005259d3bc",
   "metadata": {},
   "outputs": [],
   "source": []
  },
  {
   "cell_type": "markdown",
   "id": "43942c13-e95c-4694-8721-121361f3294a",
   "metadata": {},
   "source": [
    "Q10. What are some common measures of central tendency and variability used in statistics? Explain\n",
    "how each measure can be used to describe a dataset."
   ]
  },
  {
   "cell_type": "markdown",
   "id": "1bfb2ca6-987a-4a6f-bebb-921a9375f206",
   "metadata": {},
   "source": [
    "Measures of central tendency tell us what is common or typical about our variable.                                         \n",
    "Three measures of central tendency are the mode, the median and the mean. The mode is used almost exclusively with nominal-level data, as it is the only measure of central tendency available for such variables."
   ]
  },
  {
   "cell_type": "markdown",
   "id": "40ac245d-74ee-46f6-94e8-8d7b69be4d34",
   "metadata": {},
   "source": [
    "A measure of central tendency (also referred to as measures of centre or central location) is a summary measure that attempts to describe a whole set of data with a single value that represents the middle or centre of its distribution. There are three main measures of central tendency: mode. median. mean."
   ]
  },
  {
   "cell_type": "code",
   "execution_count": null,
   "id": "b8865f09-9983-4a0b-8920-7d4bd0aa5666",
   "metadata": {},
   "outputs": [],
   "source": []
  }
 ],
 "metadata": {
  "kernelspec": {
   "display_name": "Python 3 (ipykernel)",
   "language": "python",
   "name": "python3"
  },
  "language_info": {
   "codemirror_mode": {
    "name": "ipython",
    "version": 3
   },
   "file_extension": ".py",
   "mimetype": "text/x-python",
   "name": "python",
   "nbconvert_exporter": "python",
   "pygments_lexer": "ipython3",
   "version": "3.10.8"
  }
 },
 "nbformat": 4,
 "nbformat_minor": 5
}
